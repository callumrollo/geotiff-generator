{
 "cells": [
  {
   "cell_type": "markdown",
   "metadata": {},
   "source": [
    "# Geotiff-Generator demo"
   ]
  },
  {
   "cell_type": "markdown",
   "metadata": {},
   "source": [
    "This is a short notebook to demonstrate use of the `tiff_maker`, the core  Python function of geotiff-generator. After trying out this demo I encourage you to read the `tiff_maker` and `bathy_to_tiff` (both in the file geotiff_gen.py) \n",
    "\n",
    "For the purpose of this demo I have extracted a subset of emodnet bathymetry around norfolk."
   ]
  },
  {
   "cell_type": "code",
   "execution_count": 1,
   "metadata": {},
   "outputs": [],
   "source": [
    "# Import the necessarray modules and find the path to the .nc file\n",
    "import xarray as xr\n",
    "from pathlib import Path \n",
    "notebook_dir = Path.cwd()"
   ]
  },
  {
   "cell_type": "code",
   "execution_count": 2,
   "metadata": {},
   "outputs": [],
   "source": [
    "# Import the sample bathymetry data\n",
    "bathy_ds = xr.open_dataset(notebook_dir / 'norfolk_bathy.nc')\n",
    "bathy_lon, bathy_lat, bathy_h = bathy_ds.bathymetry.longitude, bathy_ds.bathymetry.latitude, bathy_ds.bathymetry.values"
   ]
  },
  {
   "cell_type": "markdown",
   "metadata": {},
   "source": [
    "bathy_lon, bathy_lat and bathy_h are numpy arrrys. You can input your own bathy data in their place. Height is positive up from sea level so depths are negative. np.nan values will be interpereted as land"
   ]
  },
  {
   "cell_type": "code",
   "execution_count": 3,
   "metadata": {},
   "outputs": [],
   "source": [
    "## Uncomment to check out the bathy_h nyumpy array\n",
    "#print(type(bathy_h))\n",
    "#bathy_h"
   ]
  },
  {
   "cell_type": "markdown",
   "metadata": {},
   "source": [
    "We import the fucntion `tiff_maker` to make our tiff image"
   ]
  },
  {
   "cell_type": "code",
   "execution_count": 4,
   "metadata": {},
   "outputs": [],
   "source": [
    "from geotiff_gen import tiff_maker"
   ]
  },
  {
   "cell_type": "markdown",
   "metadata": {},
   "source": [
    "By explicitly passing a filename, the lon, lat and bathy arrays a color theme and a minimum depth for the shallow water warning, the script will run autonomously"
   ]
  },
  {
   "cell_type": "code",
   "execution_count": 5,
   "metadata": {},
   "outputs": [
    {
     "name": "stdout",
     "output_type": "stream",
     "text": [
      "Generating geotiff...\n",
      "Made geotiff file at: /media/callum/storage/Documents/foo/geotiff-generator/norfolk.tif\n"
     ]
    }
   ],
   "source": [
    "tiff_maker(filename='norfolk', lon=bathy_lon, lat=bathy_lat, bathy=bathy_h,theme='y',min_depth=10)"
   ]
  },
  {
   "cell_type": "markdown",
   "metadata": {},
   "source": [
    "This generates a geotiff image of the bathymetry around Norfolk. With the color theme 'y' and min_depth 10 specified, this colors the land dark green and water shallower than 10 m dark red. Remaining depths are a scale of blue/green. Shallow is pale, deep is dark.\n",
    "\n",
    "There is no way to display the geotiff image in this IPython notebook. If you downloaded the notebook, check the location printed above for the image. If you're running in Binder you can dowwnload a sample image [here](https://github.com/callumrollo/geotiff-generator)"
   ]
  },
  {
   "cell_type": "markdown",
   "metadata": {},
   "source": [
    "If we leave out the last two arguments, the script will ask you for your desired settings when making the tiff color bands"
   ]
  },
  {
   "cell_type": "code",
   "execution_count": 6,
   "metadata": {},
   "outputs": [
    {
     "name": "stdout",
     "output_type": "stream",
     "text": [
      "Would you like the geotiff in a dark theme?\n",
      "[y]es please, I love dark themed UI elements\n",
      "[n]ah just melt my eyeballs out\n",
      "[g]reyscale for true bathymetry\n",
      "n\n",
      "What depth (m) would you like the shallow warning red set? (0 for no shallow warning) \n",
      "20\n",
      "Generating geotiff...\n",
      "Made geotiff file at: /media/callum/storage/Documents/foo/geotiff-generator/norfolk_light.tif\n"
     ]
    }
   ],
   "source": [
    "tiff_maker(filename='norfolk_light', lon=bathy_lon, lat=bathy_lat, bathy=bathy_h)"
   ]
  },
  {
   "cell_type": "markdown",
   "metadata": {},
   "source": [
    "If we call `tiff_maker` with no arguments it will run in interactive mode and ask you for all the data. If you have copied this script locally you can follow the menu options to pass it a path to your emodnet or GEBCO bathymetry data as I have done"
   ]
  },
  {
   "cell_type": "code",
   "execution_count": 7,
   "metadata": {},
   "outputs": [
    {
     "name": "stdout",
     "output_type": "stream",
     "text": [
      "Enter a name for your bathymetry geotiff VLIZ\n",
      "Enter the southern limit of your desired bathy51\n",
      "Enter the northern limit of your desired bathy52\n",
      "Enter the western limit of your desired bathy2\n",
      "Enter the eastern limit of your desired bathy4\n",
      "What bathy are you using? [g]ebco, [e]modnet or [o]there\n",
      "Enter the path to the folder with your emodnet file(s) (E3.dtm etc)/media/callum/storage/Documents/global_datasets/emod_netcdf/\n",
      "Bathymetry data contained in 2 files. Fetching...\n",
      "base tile E4\n",
      "adding tile E5\n",
      "start new column...\n",
      "combining columns\n",
      "Bathy parsed successfully\n",
      "Would you like the geotiff in a dark theme?\n",
      "[y]es please, I love dark themed UI elements\n",
      "[n]ah just melt my eyeballs out\n",
      "[g]reyscale for true bathymetry\n",
      "y\n",
      "What depth (m) would you like the shallow warning red set? (0 for no shallow warning) \n",
      "0\n",
      "Generating geotiff...\n",
      "Made geotiff file at: /media/callum/storage/Documents/foo/geotiff-generator/VLIZ.tif\n"
     ]
    }
   ],
   "source": [
    "tiff_maker()"
   ]
  }
 ],
 "metadata": {
  "kernelspec": {
   "display_name": "Python 3",
   "language": "python",
   "name": "python3"
  },
  "language_info": {
   "codemirror_mode": {
    "name": "ipython",
    "version": 3
   },
   "file_extension": ".py",
   "mimetype": "text/x-python",
   "name": "python",
   "nbconvert_exporter": "python",
   "pygments_lexer": "ipython3",
   "version": "3.8.0"
  }
 },
 "nbformat": 4,
 "nbformat_minor": 2
}
